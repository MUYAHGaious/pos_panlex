{
 "cells": [
  {
   "cell_type": "code",
   "execution_count": null,
   "id": "bdebd3e6",
   "metadata": {},
   "outputs": [],
   "source": [
    "import os\n",
    "import json\n",
    "\n",
    "with open(\"english_words_by_pos.json\", \"r\", encoding=\"utf-8\") as f:\n",
    "    combined_pos_words = json.load(f)\n",
    "\n",
    "folder_name = \"split_json_files\"\n",
    "os.makedirs(folder_name, exist_ok=True)\n",
    "\n",
    "split_files = []\n",
    "for i in range(5):\n",
    "    chunk_data = {}\n",
    "    for pos, words in combined_pos_words.items():\n",
    "        chunk_size = len(words) // 5  # Split into 4 parts\n",
    "        start_index = i * chunk_size\n",
    "        end_index = start_index + chunk_size\n",
    "        chunk_data[pos] = words[start_index:end_index]\n",
    "\n",
    "    # Define the chunk file name\n",
    "    file_name = f\"{folder_name}/english_words_chunk_{i+1}.json\"\n",
    "    split_files.append(file_name)\n",
    "\n",
    "    # Save the chunk to a file\n",
    "    with open(file_name, \"w\", encoding=\"utf-8\") as f:\n",
    "        json.dump(chunk_data, f, ensure_ascii=False, indent=2)\n",
    "\n",
    "print(f\"✅ Done! JSON file split into 4 parts and saved inside '{folder_name}'.\")\n",
    "print(f\"Files created: {', '.join(split_files)}\")"
   ]
  }
 ],
 "metadata": {
  "kernelspec": {
   "display_name": "venv",
   "language": "python",
   "name": "python3"
  },
  "language_info": {
   "name": "python",
   "version": "3.12.10"
  }
 },
 "nbformat": 4,
 "nbformat_minor": 5
}
